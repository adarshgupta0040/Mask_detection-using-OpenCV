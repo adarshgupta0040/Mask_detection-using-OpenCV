{
  "nbformat": 4,
  "nbformat_minor": 0,
  "metadata": {
    "colab": {
      "name": "Mask Detection.ipynb",
      "provenance": []
    },
    "kernelspec": {
      "name": "python3",
      "display_name": "Python 3"
    },
    "language_info": {
      "name": "python"
    }
  },
  "cells": [
    {
      "cell_type": "code",
      "execution_count": 1,
      "metadata": {
        "id": "XmpvD-Pfdneu"
      },
      "outputs": [],
      "source": [
        "import os\n",
        "import numba"
      ]
    },
    {
      "cell_type": "code",
      "source": [
        "import numpy as np\n",
        "import matplotlib.pyplot as plt"
      ],
      "metadata": {
        "id": "3pUYpbFAgXSR"
      },
      "execution_count": 2,
      "outputs": []
    },
    {
      "cell_type": "code",
      "source": [
        "from sklearn.model_selection import train_test_split\n",
        "from sklearn.metrics import classification_report,confusion_matrix\n",
        "from sklearn.preprocessing import LabelBinarizer"
      ],
      "metadata": {
        "id": "XBRAmOQXgn4Q"
      },
      "execution_count": 4,
      "outputs": []
    },
    {
      "cell_type": "code",
      "source": [
        "from imutils import paths"
      ],
      "metadata": {
        "id": "K0cjKL9chYIu"
      },
      "execution_count": 6,
      "outputs": []
    },
    {
      "cell_type": "code",
      "source": [
        "from keras.models import Sequential\n",
        "from keras.models import Model\n",
        "from keras.layers import Conv2D, Dense, Flatten, MaxPool2D, Dropout\n",
        "from keras.layers import AveragePooling2D, BatchNormalization\n",
        "from keras.layers import Activation, AvgPool2D\n",
        "from tensorflow.keras.applications import MobileNetV2\n",
        "from tensorflow.keras.utils import to_categorical\n",
        "from tensorflow.keras.applications.mobilenet_v2 import preprocess_input\n",
        "from tensorflow.keras.layers import Input\n",
        "from keras.preprocessing.image import load_img,img_to_array,ImageDataGenerator"
      ],
      "metadata": {
        "id": "FRgJyXFEhjda"
      },
      "execution_count": 14,
      "outputs": []
    },
    {
      "cell_type": "code",
      "source": [
        "initial LR=10.4\n",
        "epoch=15\n",
        "batch_size=8"
      ],
      "metadata": {
        "id": "DVoFvC5ehpxX"
      },
      "execution_count": null,
      "outputs": []
    }
  ]
}